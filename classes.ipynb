{
 "cells": [
  {
   "cell_type": "code",
   "execution_count": 21,
   "metadata": {},
   "outputs": [],
   "source": [
    "class Joueur:\n",
    "    def __init__(self,nom,prenom,salaire_actuel):\n",
    "        self.nom=nom\n",
    "        self.prenom=prenom\n",
    "        self.salaire=salaire_actuel\n",
    "        self.clubs=[]\n",
    "        self.club_actuel=\"\"\n",
    "        self.trophees=[]\n",
    "        \n",
    "    def nom_prenom(self):\n",
    "        print(f\"{self.nom} {self.prenom}\")\n",
    "        \n",
    "    def salaire(self):\n",
    "        print(f\" {self.salaire_actuel}\")\n",
    "        \n",
    "    def mise_a_jour_salaire(self,salaire):\n",
    "        self.salaire_actuel=salaire\n",
    "        print(f\"{self.salaire}\")\n",
    "        \n",
    "    def nouveau_club(self,club):\n",
    "        self.club_actuel=club\n",
    "        self.clubs.append(self.club_actuel)\n",
    "        \n",
    "    def club(self):\n",
    "        return self.club_actuel\n",
    "    \n",
    "    \n",
    "    def nouveau_trophee(self,trophee):\n",
    "        self.trophees.append(trophee)\n",
    "        \n",
    "    def trophees(self):\n",
    "        return self.trophees\n",
    "    \n",
    "    def club_s(self):\n",
    "        return self.clubs\n",
    "    \n",
    "        \n",
    "        \n",
    "        "
   ]
  },
  {
   "cell_type": "code",
   "execution_count": 22,
   "metadata": {},
   "outputs": [],
   "source": [
    "Joueur1=Joueur(\"Cristiano\",\"Ronaldo\",17000000)"
   ]
  },
  {
   "cell_type": "code",
   "execution_count": 23,
   "metadata": {},
   "outputs": [],
   "source": [
    "Joueur1.nouveau_club(\"Juventus\")"
   ]
  },
  {
   "cell_type": "code",
   "execution_count": 25,
   "metadata": {},
   "outputs": [
    {
     "data": {
      "text/plain": [
       "['Juventus']"
      ]
     },
     "execution_count": 25,
     "metadata": {},
     "output_type": "execute_result"
    }
   ],
   "source": [
    "Joueur1.club_s()"
   ]
  },
  {
   "cell_type": "code",
   "execution_count": 26,
   "metadata": {},
   "outputs": [],
   "source": [
    "Joueur1.nouveau_club(\"Paris\")"
   ]
  },
  {
   "cell_type": "code",
   "execution_count": 27,
   "metadata": {},
   "outputs": [
    {
     "data": {
      "text/plain": [
       "['Juventus', 'Paris']"
      ]
     },
     "execution_count": 27,
     "metadata": {},
     "output_type": "execute_result"
    }
   ],
   "source": [
    "Joueur1.club_s()"
   ]
  },
  {
   "cell_type": "code",
   "execution_count": 1,
   "metadata": {},
   "outputs": [],
   "source": [
    "class Animal:\n",
    "    def __init__(self,name):\n",
    "        self.name=name\n",
    "        \n",
    "class A(Animal):\n",
    "    def return_name(self):\n",
    "        print(self.name)\n",
    "        \n",
    "        "
   ]
  },
  {
   "cell_type": "code",
   "execution_count": 2,
   "metadata": {},
   "outputs": [
    {
     "ename": "AttributeError",
     "evalue": "'Animal' object has no attribute 'return_name'",
     "output_type": "error",
     "traceback": [
      "\u001b[0;31m---------------------------------------------------------------------------\u001b[0m",
      "\u001b[0;31mAttributeError\u001b[0m                            Traceback (most recent call last)",
      "\u001b[0;32m<ipython-input-2-4a47659d07a6>\u001b[0m in \u001b[0;36m<module>\u001b[0;34m\u001b[0m\n\u001b[1;32m      1\u001b[0m \u001b[0mAn\u001b[0m\u001b[0;34m=\u001b[0m\u001b[0mAnimal\u001b[0m\u001b[0;34m(\u001b[0m\u001b[0;34m\"df\"\u001b[0m\u001b[0;34m)\u001b[0m\u001b[0;34m\u001b[0m\u001b[0;34m\u001b[0m\u001b[0m\n\u001b[0;32m----> 2\u001b[0;31m \u001b[0mAn\u001b[0m\u001b[0;34m.\u001b[0m\u001b[0mreturn_name\u001b[0m\u001b[0;34m(\u001b[0m\u001b[0;34m)\u001b[0m\u001b[0;34m\u001b[0m\u001b[0;34m\u001b[0m\u001b[0m\n\u001b[0m",
      "\u001b[0;31mAttributeError\u001b[0m: 'Animal' object has no attribute 'return_name'"
     ]
    }
   ],
   "source": [
    "An=Animal(\"df\")\n",
    "An.return_name()"
   ]
  },
  {
   "cell_type": "code",
   "execution_count": null,
   "metadata": {},
   "outputs": [],
   "source": []
  }
 ],
 "metadata": {
  "kernelspec": {
   "display_name": "Python 3",
   "language": "python",
   "name": "python3"
  },
  "language_info": {
   "codemirror_mode": {
    "name": "ipython",
    "version": 3
   },
   "file_extension": ".py",
   "mimetype": "text/x-python",
   "name": "python",
   "nbconvert_exporter": "python",
   "pygments_lexer": "ipython3",
   "version": "3.8.3"
  }
 },
 "nbformat": 4,
 "nbformat_minor": 4
}

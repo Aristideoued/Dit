{
 "cells": [
  {
   "cell_type": "code",
   "execution_count": 8,
   "metadata": {},
   "outputs": [
    {
     "data": {
      "text/plain": [
       "\"Si tu penses comme moi, tu es mon frère. si tu ne penses pas comme moi, tu es deux fois mon frère, car tu m'ouvres un autre monde.\""
      ]
     },
     "execution_count": 8,
     "metadata": {},
     "output_type": "execute_result"
    }
   ],
   "source": [
    "phrase =\"si tu Penses comme moi, tU es mon frère. Si tu ne penses pas comme moi, tu es deux fois MON frère, Car tu m'ouvres un autre monde.\"\n",
    "p_m=phrase.lower()\n",
    "p_cap=p_m.capitalize()\n",
    "p_cap"
   ]
  },
  {
   "cell_type": "code",
   "execution_count": 6,
   "metadata": {},
   "outputs": [
    {
     "data": {
      "text/plain": [
       "2"
      ]
     },
     "execution_count": 6,
     "metadata": {},
     "output_type": "execute_result"
    }
   ],
   "source": [
    "phrase.count(\"frère\")"
   ]
  },
  {
   "cell_type": "code",
   "execution_count": 12,
   "metadata": {},
   "outputs": [
    {
     "data": {
      "text/plain": [
       "'Fatou a ouvert la page https://www.dit.sn à 20:50 '"
      ]
     },
     "execution_count": 12,
     "metadata": {},
     "output_type": "execute_result"
    }
   ],
   "source": [
    "username = \"Fatou\"\n",
    "time = \"20:50\"\n",
    "url = \"https://www.dit.sn\"\n",
    "phrase= username+ \" a ouvert la page\"+\" \"+url+\" à\"+\" \"+time+\" \"\n",
    "phrase"
   ]
  },
  {
   "cell_type": "code",
   "execution_count": 22,
   "metadata": {},
   "outputs": [
    {
     "name": "stdout",
     "output_type": "stream",
     "text": [
      "entrer le prix en euro : 100\n",
      "l'equivalence en cfa est 65500 cfa\n"
     ]
    }
   ],
   "source": [
    "valeur=int(input(\"entrer le prix en euro : \"))\n",
    "prix_cfa=valeur*655\n",
    "print(f\"l'equivalence en cfa est {prix_cfa} cfa\")"
   ]
  },
  {
   "cell_type": "code",
   "execution_count": null,
   "metadata": {},
   "outputs": [],
   "source": [
    "def puissnace(a,b):\n",
    "    "
   ]
  },
  {
   "cell_type": "code",
   "execution_count": 9,
   "metadata": {},
   "outputs": [
    {
     "name": "stdout",
     "output_type": "stream",
     "text": [
      "choisissez une devise parmi : dollar,euro,yen : euro\n",
      "500000 Fcfa = 763.3587786259542€\n"
     ]
    }
   ],
   "source": [
    "def Cfa_to_other_devises(montant_cfa):\n",
    "    converti=0\n",
    "    sigle=\"\"\n",
    "    devise=input(\"choisissez une devise parmi : dollar,euro,yen : \")\n",
    "    if devise==\"dollar\":\n",
    "        converti=montant_cfa/574\n",
    "        sigle=\"$\"\n",
    "        print(f\"{montant_cfa} Fcfa = {converti}{sigle}\")  \n",
    "    elif devise==\"euro\":\n",
    "        converti=montant_cfa/655\n",
    "        sigle=\"€\"\n",
    "        print(f\"{montant_cfa} Fcfa = {converti}{sigle}\")  \n",
    "    elif devise==\"yen\":\n",
    "        converti=montant_cfa/5.13\n",
    "        sigle=\"¥\"\n",
    "        print(f\"{montant_cfa} Fcfa = {converti}{sigle}\")  \n",
    "    else :\n",
    "        print(\"Choix incorrect !\")\n",
    "    \n",
    "#Appel de la fonction :\n",
    "Cfa_to_other_devises(5000)\n",
    "    "
   ]
  },
  {
   "cell_type": "code",
   "execution_count": 10,
   "metadata": {},
   "outputs": [
    {
     "name": "stdout",
     "output_type": "stream",
     "text": [
      "choisissez une devise parmi : dollar,euro,yen : yen\n",
      "5000 Fcfa = 974.6588693957116¥\n"
     ]
    }
   ],
   "source": [
    "Cfa_to_other_devises(5000)"
   ]
  },
  {
   "cell_type": "code",
   "execution_count": 14,
   "metadata": {},
   "outputs": [
    {
     "name": "stdout",
     "output_type": "stream",
     "text": [
      "1010\n",
      "20\n"
     ]
    }
   ],
   "source": [
    "\n",
    "\n",
    "\n",
    "\n",
    "\n",
    "\n",
    "\n",
    "a=10\n",
    "b=\"10\"\n",
    "c1=str(a)+b\n",
    "c2=a+int(b)\n",
    "print(c1)\n",
    "print(c2)"
   ]
  },
  {
   "cell_type": "code",
   "execution_count": 24,
   "metadata": {},
   "outputs": [
    {
     "data": {
      "text/plain": [
       "False"
      ]
     },
     "execution_count": 24,
     "metadata": {},
     "output_type": "execute_result"
    }
   ],
   "source": [
    "moctar, patrick, fatou, isabelle = 25, 35, 24, 40\n",
    "moctar<fatou\n",
    "    "
   ]
  },
  {
   "cell_type": "code",
   "execution_count": 25,
   "metadata": {},
   "outputs": [
    {
     "data": {
      "text/plain": [
       "True"
      ]
     },
     "execution_count": 25,
     "metadata": {},
     "output_type": "execute_result"
    }
   ],
   "source": [
    "moctar>fatou & moctar<patrick\n",
    "    "
   ]
  },
  {
   "cell_type": "code",
   "execution_count": 27,
   "metadata": {},
   "outputs": [
    {
     "data": {
      "text/plain": [
       "False"
      ]
     },
     "execution_count": 27,
     "metadata": {},
     "output_type": "execute_result"
    }
   ],
   "source": [
    "moctar>patrick & isabelle>fatou\n",
    "    "
   ]
  },
  {
   "cell_type": "code",
   "execution_count": 10,
   "metadata": {},
   "outputs": [
    {
     "name": "stdout",
     "output_type": "stream",
     "text": [
      " En France  l apparition des premiers articles de presse coïncide avec le développement de l imprimerie  qui permet de diffuser des feuilles volantes comportant des   nouvelles    À partir du xve siècle  les   occasionnels    surtout vendus par colportage  se composent d un ou plusieurs textes consacrés à un événement  bataille  célébration  décès d une personnalité  etc   et illustrés par des gravures sur bois \n",
      "Les ancêtres des publications de presse telles qu on les connaît aujourd hui datent du début du xviie siècle  avec les premières gazettes qui rendent compte plus ou moins régulièrement de l actualité dans des articles distincts  En 1631  La Gazette de Théophraste Renaudot publie des nouvelles de l étranger et de la Cour  Le ton de ses articles étant jugé trop neutre ou trop soumis au pouvoir  d autres publications font leur apparition  privilégiant les articles de commentaires  La Révolution française  qui consacre\n",
      "  la libre communication de la pensée et des opinions    permet à tout citoyen d écrire et d imprimer librement  Les critiques et les prises de position constituent alors l essentiel des articles de l époque \n",
      "La Révolution industrielle et la loi sur la liberté de la presse du 29 juillet 1881 vont engendrer une nouvelle forme de journalisme  Les échos  les billets et les brèves cohabitent dans les journaux avec un nouveau genre d article  le reportage  À la fin du xixe siècle  les quotidiens atteignent des tirages spectaculaires  Le Petit Journal  quotidien   Le Petit Parisien et Le Matin dépassant le million d exemplaires  L impact de certains articles est alors considérable  comme le célèbre J accuse d Émile Zola paru dans L Aurore à l occasion de l affaire Dreyfus  ou l enquête d Albert Londres sur le bagne de Cayenne parue dans Le Petit Parisien \n",
      "\n",
      "['En', 'France', 'l', 'apparition', 'des', 'premiers', 'articles', 'de', 'presse', 'coïncide', 'avec', 'le', 'développement', 'de', 'l', 'imprimerie', 'qui', 'permet', 'de', 'diffuser', 'des', 'feuilles', 'volantes', 'comportant', 'des', 'nouvelles', 'À', 'partir', 'du', 'xve', 'siècle', 'les', 'occasionnels', 'surtout', 'vendus', 'par', 'colportage', 'se', 'composent', 'd', 'un', 'ou', 'plusieurs', 'textes', 'consacrés', 'à', 'un', 'événement', 'bataille', 'célébration', 'décès', 'd', 'une', 'personnalité', 'etc', 'et', 'illustrés', 'par', 'des', 'gravures', 'sur', 'bois', 'Les', 'ancêtres', 'des', 'publications', 'de', 'presse', 'telles', 'qu', 'on', 'les', 'connaît', 'aujourd', 'hui', 'datent', 'du', 'début', 'du', 'xviie', 'siècle', 'avec', 'les', 'premières', 'gazettes', 'qui', 'rendent', 'compte', 'plus', 'ou', 'moins', 'régulièrement', 'de', 'l', 'actualité', 'dans', 'des', 'articles', 'distincts', 'En', '1631', 'La', 'Gazette', 'de', 'Théophraste', 'Renaudot', 'publie', 'des', 'nouvelles', 'de', 'l', 'étranger', 'et', 'de', 'la', 'Cour', 'Le', 'ton', 'de', 'ses', 'articles', 'étant', 'jugé', 'trop', 'neutre', 'ou', 'trop', 'soumis', 'au', 'pouvoir', 'd', 'autres', 'publications', 'font', 'leur', 'apparition', 'privilégiant', 'les', 'articles', 'de', 'commentaires', 'La', 'Révolution', 'française', 'qui', 'consacre', 'la', 'libre', 'communication', 'de', 'la', 'pensée', 'et', 'des', 'opinions', 'permet', 'à', 'tout', 'citoyen', 'd', 'écrire', 'et', 'd', 'imprimer', 'librement', 'Les', 'critiques', 'et', 'les', 'prises', 'de', 'position', 'constituent', 'alors', 'l', 'essentiel', 'des', 'articles', 'de', 'l', 'époque', 'La', 'Révolution', 'industrielle', 'et', 'la', 'loi', 'sur', 'la', 'liberté', 'de', 'la', 'presse', 'du', '29', 'juillet', '1881', 'vont', 'engendrer', 'une', 'nouvelle', 'forme', 'de', 'journalisme', 'Les', 'échos', 'les', 'billets', 'et', 'les', 'brèves', 'cohabitent', 'dans', 'les', 'journaux', 'avec', 'un', 'nouveau', 'genre', 'd', 'article', 'le', 'reportage', 'À', 'la', 'fin', 'du', 'xixe', 'siècle', 'les', 'quotidiens', 'atteignent', 'des', 'tirages', 'spectaculaires', 'Le', 'Petit', 'Journal', 'quotidien', 'Le', 'Petit', 'Parisien', 'et', 'Le', 'Matin', 'dépassant', 'le', 'million', 'd', 'exemplaires', 'L', 'impact', 'de', 'certains', 'articles', 'est', 'alors', 'considérable', 'comme', 'le', 'célèbre', 'J', 'accuse', 'd', 'Émile', 'Zola', 'paru', 'dans', 'L', 'Aurore', 'à', 'l', 'occasion', 'de', 'l', 'affaire', 'Dreyfus', 'ou', 'l', 'enquête', 'd', 'Albert', 'Londres', 'sur', 'le', 'bagne', 'de', 'Cayenne', 'parue', 'dans', 'Le', 'Petit', 'Parisien']\n",
      "293\n"
     ]
    }
   ],
   "source": [
    "texte=\"\"\" En France, l'apparition des premiers articles de presse coïncide avec le développement de l'imprimerie, qui permet de diffuser des feuilles volantes comportant des « nouvelles ». À partir du xve siècle, les « occasionnels », surtout vendus par colportage, se composent d'un ou plusieurs textes consacrés à un événement (bataille, célébration, décès d'une personnalité, etc.) et illustrés par des gravures sur bois.\n",
    "Les ancêtres des publications de presse telles qu'on les connaît aujourd'hui datent du début du xviie siècle, avec les premières gazettes qui rendent compte plus ou moins régulièrement de l'actualité dans des articles distincts. En 1631, La Gazette de Théophraste Renaudot publie des nouvelles de l'étranger et de la Cour. Le ton de ses articles étant jugé trop neutre ou trop soumis au pouvoir, d'autres publications font leur apparition, privilégiant les articles de commentaires. La Révolution française, qui consacre\n",
    "« la libre communication de la pensée et des opinions », permet à tout citoyen d'écrire et d'imprimer librement. Les critiques et les prises de position constituent alors l'essentiel des articles de l'époque.\n",
    "La Révolution industrielle et la loi sur la liberté de la presse du 29 juillet 1881 vont engendrer une nouvelle forme de journalisme. Les échos, les billets et les brèves cohabitent dans les journaux avec un nouveau genre d'article, le reportage. À la fin du xixe siècle, les quotidiens atteignent des tirages spectaculaires, Le Petit Journal (quotidien), Le Petit Parisien et Le Matin dépassant le million d'exemplaires. L'impact de certains articles est alors considérable, comme le célèbre J'accuse d'Émile Zola paru dans L'Aurore à l'occasion de l'affaire Dreyfus, ou l'enquête d'Albert Londres sur le bagne de Cayenne parue dans Le Petit Parisien.\n",
    "\"\"\"\n",
    "\n",
    "caract=[\".\",\">>\",\"(\",\")\",\"»\",\"«\",\"'\",\",\"]\n",
    "for i in caract:\n",
    "    texte=texte.replace(i,\" \")\n",
    "    \n",
    "    \n",
    "mots=texte.split()\n",
    "\n",
    "print(texte)\n",
    "print(mots)\n",
    "nombre_mots=len(mots)\n",
    "print(nombre_mots)"
   ]
  },
  {
   "cell_type": "code",
   "execution_count": 3,
   "metadata": {},
   "outputs": [
    {
     "data": {
      "text/plain": [
       "12"
      ]
     },
     "execution_count": 3,
     "metadata": {},
     "output_type": "execute_result"
    }
   ],
   "source": [
    "texte.count(\".\")"
   ]
  },
  {
   "cell_type": "code",
   "execution_count": null,
   "metadata": {},
   "outputs": [],
   "source": [
    "list"
   ]
  }
 ],
 "metadata": {
  "kernelspec": {
   "display_name": "Python 3",
   "language": "python",
   "name": "python3"
  },
  "language_info": {
   "codemirror_mode": {
    "name": "ipython",
    "version": 3
   },
   "file_extension": ".py",
   "mimetype": "text/x-python",
   "name": "python",
   "nbconvert_exporter": "python",
   "pygments_lexer": "ipython3",
   "version": "3.8.3"
  }
 },
 "nbformat": 4,
 "nbformat_minor": 4
}

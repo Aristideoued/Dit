{
 "cells": [
  {
   "cell_type": "code",
   "execution_count": null,
   "metadata": {},
   "outputs": [],
   "source": [
    "class joueur:\n",
    "    def __intit__(self,nom,prenom,salaire_actuel):\n",
    "        self.nom=nom\n",
    "        self.prenom=prenom\n",
    "        self.salaire=salaire\n",
    "        self.clubs=[]\n",
    "        sel.club_actuel=\"\"\n",
    "        self.trophees=[]\n",
    "        \n",
    "    def nom_prenom(self):\n",
    "        print(f\"{sel.nom} {self.prenom}\")\n",
    "        \n",
    "    def salaire(self):\n",
    "        print(f\" {self.salaire_actuel}\")\n",
    "        \n",
    "    def mise_a_jour_salaire(self,salaire):\n",
    "        self.salaire_actuel=salaire\n",
    "        print(f\"{self.salaire}\")\n",
    "        \n",
    "    def nouveau_club(self, club):\n",
    "        self.club_actuel=club\n",
    "        self.clubs.append(club_actuel)\n",
    "        \n",
    "    def club(self):\n",
    "        return self.club_actuel\n",
    "    \n",
    "    \n",
    "    def nouveau_trophee(self,trophee):\n",
    "        self.trophees.append(trophee)\n",
    "        \n",
    "    def trophees(self):\n",
    "        return self.trophees\n",
    "    \n",
    "    \n",
    "        \n",
    "        \n",
    "        "
   ]
  }
 ],
 "metadata": {
  "kernelspec": {
   "display_name": "Python 3",
   "language": "python",
   "name": "python3"
  },
  "language_info": {
   "codemirror_mode": {
    "name": "ipython",
    "version": 3
   },
   "file_extension": ".py",
   "mimetype": "text/x-python",
   "name": "python",
   "nbconvert_exporter": "python",
   "pygments_lexer": "ipython3",
   "version": "3.8.3"
  }
 },
 "nbformat": 4,
 "nbformat_minor": 4
}
